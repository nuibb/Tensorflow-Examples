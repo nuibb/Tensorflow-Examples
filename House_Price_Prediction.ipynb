{
  "nbformat": 4,
  "nbformat_minor": 0,
  "metadata": {
    "colab": {
      "name": "House Price Prediction ",
      "version": "0.3.2",
      "provenance": [],
      "include_colab_link": true
    },
    "kernelspec": {
      "name": "python3",
      "display_name": "Python 3"
    }
  },
  "cells": [
    {
      "cell_type": "markdown",
      "metadata": {
        "id": "view-in-github",
        "colab_type": "text"
      },
      "source": [
        "<a href=\"https://colab.research.google.com/github/nuibb/Tensorflow-Examples/blob/master/House_Price_Prediction.ipynb\" target=\"_parent\"><img src=\"https://colab.research.google.com/assets/colab-badge.svg\" alt=\"Open In Colab\"/></a>"
      ]
    },
    {
      "cell_type": "code",
      "metadata": {
        "id": "pZoYhKrRCY55",
        "colab_type": "code",
        "colab": {}
      },
      "source": [
        "import tensorflow as tf \n",
        "import numpy as np \n",
        "import math\n",
        "import matplotlib.pyplot as plt \n",
        "import matplotlib.animation as anim "
      ],
      "execution_count": 0,
      "outputs": []
    },
    {
      "cell_type": "markdown",
      "metadata": {
        "id": "PlsLHDfeGWTq",
        "colab_type": "text"
      },
      "source": [
        "Generate some house sizes between 1000 and 3500 square feet"
      ]
    },
    {
      "cell_type": "code",
      "metadata": {
        "id": "_57WXeSKGFIA",
        "colab_type": "code",
        "outputId": "c80b9270-3a85-45bc-be33-bed438cf9aa4",
        "colab": {
          "base_uri": "https://localhost:8080/",
          "height": 34
        }
      },
      "source": [
        "num_house = 10\n",
        "np.random.seed(42)\n",
        "house_size = np.random.randint(low=1000, high=3500, size=num_house)\n",
        "print(house_size)"
      ],
      "execution_count": 53,
      "outputs": [
        {
          "output_type": "stream",
          "text": [
            "[1860 2294 2130 2095 2638 3169 1466 2238 1330 2482]\n"
          ],
          "name": "stdout"
        }
      ]
    },
    {
      "cell_type": "markdown",
      "metadata": {
        "id": "s5gDef_PGbtq",
        "colab_type": "text"
      },
      "source": [
        "Generate house prices from house size with a random noise added."
      ]
    },
    {
      "cell_type": "code",
      "metadata": {
        "id": "SfzQFEkSGSDx",
        "colab_type": "code",
        "outputId": "83707537-cab1-4ddb-d589-9eb11eef91c0",
        "colab": {
          "base_uri": "https://localhost:8080/",
          "height": 51
        }
      },
      "source": [
        "np.random.seed(42)\n",
        "house_price = house_size * 100.0 + np.random.randint(low=20000, high=70000, size=num_house)\n",
        "print(house_price)"
      ],
      "execution_count": 54,
      "outputs": [
        {
          "output_type": "stream",
          "text": [
            "[221795. 250260. 271158. 274232. 295084. 343165. 183450. 280994. 174962.\n",
            " 315391.]\n"
          ],
          "name": "stdout"
        }
      ]
    },
    {
      "cell_type": "markdown",
      "metadata": {
        "id": "6ngEv2oVHMB8",
        "colab_type": "text"
      },
      "source": [
        "Showing with graph"
      ]
    },
    {
      "cell_type": "code",
      "metadata": {
        "id": "pC9VesGgHKGc",
        "colab_type": "code",
        "outputId": "26ffaaa7-a658-45c1-fb89-158edc83ff09",
        "colab": {
          "base_uri": "https://localhost:8080/",
          "height": 283
        }
      },
      "source": [
        "plt.plot(house_size, house_price, \"bx\") # bx for blue x\n",
        "plt.ylabel(\"Price\")\n",
        "plt.xlabel(\"Size\")\n",
        "plt.show()"
      ],
      "execution_count": 55,
      "outputs": [
        {
          "output_type": "display_data",
          "data": {
            "image/png": "[encoded data removed]",
            "text/plain": [
              "<Figure size 432x288 with 1 Axes>"
            ]
          },
          "metadata": {
            "tags": []
          }
        }
      ]
    },
    {
      "cell_type": "markdown",
      "metadata": {
        "id": "3OvdrVRPe-jA",
        "colab_type": "text"
      },
      "source": [
        "Now you need to normalize values to prevent under/overflow, house price and size should be on same scale"
      ]
    },
    {
      "cell_type": "code",
      "metadata": {
        "id": "atcYACsIfOuC",
        "colab_type": "code",
        "colab": {}
      },
      "source": [
        "def normalize(array):\n",
        "  return (array - array.mean())/array.std()"
      ],
      "execution_count": 0,
      "outputs": []
    },
    {
      "cell_type": "markdown",
      "metadata": {
        "id": "XO3D8PqrgBK_",
        "colab_type": "text"
      },
      "source": [
        "Define number of training samples, 0.7 = 70%. We can take the first 70% since the values are randomized"
      ]
    },
    {
      "cell_type": "code",
      "metadata": {
        "id": "4sjsqBh0gVsm",
        "colab_type": "code",
        "outputId": "ddad5e9f-4b88-4268-efde-475d62520f10",
        "colab": {
          "base_uri": "https://localhost:8080/",
          "height": 34
        }
      },
      "source": [
        "num_train_samples = math.floor(num_house * 0.7)\n",
        "print(num_train_samples)"
      ],
      "execution_count": 57,
      "outputs": [
        {
          "output_type": "stream",
          "text": [
            "7\n"
          ],
          "name": "stdout"
        }
      ]
    },
    {
      "cell_type": "markdown",
      "metadata": {
        "id": "ONfbtd4rhD4_",
        "colab_type": "text"
      },
      "source": [
        "Define training data"
      ]
    },
    {
      "cell_type": "code",
      "metadata": {
        "id": "1VDEwlpehF8P",
        "colab_type": "code",
        "colab": {}
      },
      "source": [
        "train_house_size = np.asarray(house_size[:num_train_samples])\n",
        "train_price = np.asarray(house_price[:num_train_samples])"
      ],
      "execution_count": 0,
      "outputs": []
    },
    {
      "cell_type": "markdown",
      "metadata": {
        "id": "EMwBwNy-kdGk",
        "colab_type": "text"
      },
      "source": [
        "Normalizing data"
      ]
    },
    {
      "cell_type": "code",
      "metadata": {
        "id": "mraFBktZkewj",
        "colab_type": "code",
        "colab": {}
      },
      "source": [
        "train_house_size_norm = normalize(train_house_size)\n",
        "train_price_norm = normalize(train_price)"
      ],
      "execution_count": 0,
      "outputs": []
    },
    {
      "cell_type": "markdown",
      "metadata": {
        "id": "irNcbaRNBFKP",
        "colab_type": "text"
      },
      "source": [
        "Set up the Tensorflow placeholders that get updated as we descent down the gradient"
      ]
    },
    {
      "cell_type": "code",
      "metadata": {
        "id": "eRwPm-qPBVx7",
        "colab_type": "code",
        "colab": {}
      },
      "source": [
        "tf_house_size = tf.placeholder(\"float\", name=\"house_size\")\n",
        "tf_price = tf.placeholder(\"float\", name=\"price\")"
      ],
      "execution_count": 0,
      "outputs": []
    },
    {
      "cell_type": "markdown",
      "metadata": {
        "id": "1De3pab6Cd8a",
        "colab_type": "text"
      },
      "source": [
        "Define the variables holding the size_factor and price we set during training. We initialize them to some random values based on the normal distribution."
      ]
    },
    {
      "cell_type": "code",
      "metadata": {
        "id": "_KpAuWYYErBx",
        "colab_type": "code",
        "colab": {}
      },
      "source": [
        "tf_size_factor = tf.Variable(np.random.randn(), name=\"size_factor\")\n",
        "tf_price_offset = tf.Variable(np.random.randn(), name=\"price_offset\")"
      ],
      "execution_count": 0,
      "outputs": []
    },
    {
      "cell_type": "markdown",
      "metadata": {
        "id": "ut8LfdRgGZje",
        "colab_type": "text"
      },
      "source": [
        "Now define the operations for predicting values (Inference function) - predicted price = (size_factor * house_size) + price_offset."
      ]
    },
    {
      "cell_type": "code",
      "metadata": {
        "id": "WA8_ae9IGw1u",
        "colab_type": "code",
        "colab": {}
      },
      "source": [
        "tf_price_pred = tf.add(tf.multiply(tf_size_factor, tf_house_size), tf_price_offset)"
      ],
      "execution_count": 0,
      "outputs": []
    },
    {
      "cell_type": "markdown",
      "metadata": {
        "id": "WG85QdGFUcpk",
        "colab_type": "text"
      },
      "source": [
        "Define the cost function ( how much error ) - Mean squared error"
      ]
    },
    {
      "cell_type": "code",
      "metadata": {
        "id": "S5prEcIaUc9K",
        "colab_type": "code",
        "colab": {}
      },
      "source": [
        "tf_cost = tf.reduce_sum(tf.pow(tf_price_pred-tf_price, 2))/(2*num_train_samples)"
      ],
      "execution_count": 0,
      "outputs": []
    },
    {
      "cell_type": "markdown",
      "metadata": {
        "id": "txJJ2NH5NGLz",
        "colab_type": "text"
      },
      "source": [
        "Optimizer learning rate. The size of the steps down on the gradient"
      ]
    },
    {
      "cell_type": "code",
      "metadata": {
        "id": "7bI67K-GNGib",
        "colab_type": "code",
        "colab": {}
      },
      "source": [
        "learning_rate = 0.1"
      ],
      "execution_count": 0,
      "outputs": []
    },
    {
      "cell_type": "markdown",
      "metadata": {
        "id": "eaD5EikrVc53",
        "colab_type": "text"
      },
      "source": [
        "Define a gradient descent optimizer that will minimize the loss defined in the operation \"cost\""
      ]
    },
    {
      "cell_type": "code",
      "metadata": {
        "id": "txxAbRPTVp6o",
        "colab_type": "code",
        "colab": {}
      },
      "source": [
        "optimizer = tf.train.GradientDescentOptimizer(learning_rate).minimize(tf_cost)"
      ],
      "execution_count": 0,
      "outputs": []
    },
    {
      "cell_type": "markdown",
      "metadata": {
        "id": "NHOTSr-odTh5",
        "colab_type": "text"
      },
      "source": [
        "Initializing the graph in the sesion"
      ]
    },
    {
      "cell_type": "code",
      "metadata": {
        "id": "U3MRB6krdgpY",
        "colab_type": "code",
        "colab": {}
      },
      "source": [
        "init = tf.global_variables_initializer()"
      ],
      "execution_count": 0,
      "outputs": []
    },
    {
      "cell_type": "markdown",
      "metadata": {
        "id": "aBzeq4HteDFY",
        "colab_type": "text"
      },
      "source": [
        "Launch the graph in the session"
      ]
    },
    {
      "cell_type": "code",
      "metadata": {
        "id": "F1RxnRr-eGaw",
        "colab_type": "code",
        "colab": {
          "base_uri": "https://localhost:8080/",
          "height": 493
        },
        "outputId": "8d9f72ed-e7e4-46ff-d898-2eba72ed0905"
      },
      "source": [
        "with tf.Session() as sess:\n",
        "  sess.run(init)\n",
        "  #Set how often to display progress and number of training iterations\n",
        "  display_every = 2\n",
        "  num_training_iter = 50\n",
        "  #Keep iterating the training data\n",
        "  for iteration in range(num_training_iter):\n",
        "    #fit all training data\n",
        "    for (x, y) in zip(train_house_size_norm, train_price_norm):\n",
        "      sess.run(optimizer, feed_dict={tf_house_size:x, tf_price:y})\n",
        "      \n",
        "    #Display current status\n",
        "    if (iteration + 1) % display_every == 0:\n",
        "      c = sess.run(tf_cost, feed_dict={tf_house_size:train_house_size_norm, tf_price:train_price_norm})\n",
        "      print(\"Iteration #:\", '%04d' % (iteration + 1), \"cost=\", \"{:.9f}\".format(c),  \"size_factor=\", sess.run(tf_size_factor), \"price_offset=\", sess.run(tf_price_offset))\n",
        "      \n",
        "  print(\"Optimization finished!\")  \n",
        "  training_cost = sess.run(tf_cost, feed_dict={tf_house_size:train_house_size_norm, tf_price:train_price_norm})\n",
        "  print(\"Trained cost=\", training_cost, \"size_factor=\", sess.run(tf_size_factor), \"price_offset=\", sess.run(tf_price_offset), '\\n')"
      ],
      "execution_count": 67,
      "outputs": [
        {
          "output_type": "stream",
          "text": [
            "Iteration #: 0002 cost= 1.222628951 size_factor= -0.5440241 price_offset= -0.33222318\n",
            "Iteration #: 0004 cost= 0.825227320 size_factor= -0.26601377 price_offset= -0.26773965\n",
            "Iteration #: 0006 cost= 0.561765611 size_factor= -0.03949545 price_offset= -0.21574716\n",
            "Iteration #: 0008 cost= 0.387113392 size_factor= 0.14506733 price_offset= -0.17383155\n",
            "Iteration #: 0010 cost= 0.271344334 size_factor= 0.29544502 price_offset= -0.14004435\n",
            "Iteration #: 0012 cost= 0.194614619 size_factor= 0.417969 price_offset= -0.112812996\n",
            "Iteration #: 0014 cost= 0.143766344 size_factor= 0.517798 price_offset= -0.0908685\n",
            "Iteration #: 0016 cost= 0.110075086 size_factor= 0.5991356 price_offset= -0.07318701\n",
            "Iteration #: 0018 cost= 0.087756328 size_factor= 0.6654067 price_offset= -0.05894247\n",
            "Iteration #: 0020 cost= 0.072975062 size_factor= 0.71940184 price_offset= -0.04746854\n",
            "Iteration #: 0022 cost= 0.063188717 size_factor= 0.76339483 price_offset= -0.03822775\n",
            "Iteration #: 0024 cost= 0.056711890 size_factor= 0.7992384 price_offset= -0.030786658\n",
            "Iteration #: 0026 cost= 0.052427344 size_factor= 0.82844216 price_offset= -0.024795733\n",
            "Iteration #: 0028 cost= 0.049594745 size_factor= 0.852236 price_offset= -0.019973163\n",
            "Iteration #: 0030 cost= 0.047723394 size_factor= 0.87162185 price_offset= -0.01609176\n",
            "Iteration #: 0032 cost= 0.046488173 size_factor= 0.8874165 price_offset= -0.012968392\n",
            "Iteration #: 0034 cost= 0.045673773 size_factor= 0.90028495 price_offset= -0.010455471\n",
            "Iteration #: 0036 cost= 0.045137566 size_factor= 0.9107694 price_offset= -0.008434061\n",
            "Iteration #: 0038 cost= 0.044785105 size_factor= 0.91931146 price_offset= -0.0068083405\n",
            "Iteration #: 0040 cost= 0.044553950 size_factor= 0.92627084 price_offset= -0.005501108\n",
            "Iteration #: 0042 cost= 0.044402745 size_factor= 0.93194085 price_offset= -0.0044501764\n",
            "Iteration #: 0044 cost= 0.044304188 size_factor= 0.9365603 price_offset= -0.003605473\n",
            "Iteration #: 0046 cost= 0.044240218 size_factor= 0.94032395 price_offset= -0.0029266756\n",
            "Iteration #: 0048 cost= 0.044198934 size_factor= 0.9433903 price_offset= -0.002381312\n",
            "Iteration #: 0050 cost= 0.044172477 size_factor= 0.9458885 price_offset= -0.0019432582\n",
            "Optimization finished!\n",
            "Trained cost= 0.044172477 size_factor= 0.9458885 price_offset= -0.0019432582 \n",
            "\n"
          ],
          "name": "stdout"
        }
      ]
    }
  ]
}