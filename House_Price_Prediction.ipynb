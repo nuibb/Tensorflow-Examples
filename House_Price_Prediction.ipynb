{
  "nbformat": 4,
  "nbformat_minor": 0,
  "metadata": {
    "colab": {
      "name": "Tensorflow : House Prediction ",
      "version": "0.3.2",
      "provenance": [],
      "include_colab_link": true
    },
    "kernelspec": {
      "name": "python3",
      "display_name": "Python 3"
    }
  },
  "cells": [
    {
      "cell_type": "markdown",
      "metadata": {
        "id": "view-in-github",
        "colab_type": "text"
      },
      "source": [
        "<a href=\"https://colab.research.google.com/github/nuibb/Data-Science-Samples-Python/blob/master/Tensorflow_House_Prediction.ipynb\" target=\"_parent\"><img src=\"https://colab.research.google.com/assets/colab-badge.svg\" alt=\"Open In Colab\"/></a>"
      ]
    },
    {
      "cell_type": "code",
      "metadata": {
        "id": "pZoYhKrRCY55",
        "colab_type": "code",
        "colab": {}
      },
      "source": [
        "import tensorflow as tf \n",
        "import numpy as np \n",
        "import math\n",
        "import matplotlib.pyplot as plt \n",
        "import matplotlib.animation as anim "
      ],
      "execution_count": 0,
      "outputs": []
    },
    {
      "cell_type": "markdown",
      "metadata": {
        "id": "PlsLHDfeGWTq",
        "colab_type": "text"
      },
      "source": [
        "Generate some house sizes between 1000 and 3500 square feet"
      ]
    },
    {
      "cell_type": "code",
      "metadata": {
        "id": "_57WXeSKGFIA",
        "colab_type": "code",
        "colab": {
          "base_uri": "https://localhost:8080/",
          "height": 153
        },
        "outputId": "8560036f-f2e2-4597-bc05-8c3ffdca663f"
      },
      "source": [
        "num_house = 100\n",
        "np.random.seed(42)\n",
        "house_size = np.random.randint(low=1000, high=3500, size=num_house)\n",
        "print(house_size)"
      ],
      "execution_count": 6,
      "outputs": [
        {
          "output_type": "stream",
          "text": [
            "[1860 2294 2130 2095 2638 3169 1466 2238 1330 2482 3135 1130 2685 1769\n",
            " 3391 2515 3433 2215 1955 3324 2184 1459 1021 3300 1747 1474 2082 3047\n",
            " 1975 2806 1189 1562 2899 2267 2528 1646 3068 3214 2297 3435 1600 3363\n",
            " 3061 1241 3041 2363 3139 2390 2478 1775 1034 3253 2955 2585 2021 2129\n",
            " 2500 1702 3449 2579 1161 1201 2981 1995 3317 1815 1455 2275 2016 3343\n",
            " 1337 1878 2076 1791 3264 1763 3235 1379 1492 2180 3062 1064 2367 2152\n",
            " 3027 2495 2162 2522 1391 2698 1418 3336 1378 2796 3278 3088 3182 1200\n",
            " 2863 1779]\n"
          ],
          "name": "stdout"
        }
      ]
    },
    {
      "cell_type": "markdown",
      "metadata": {
        "id": "s5gDef_PGbtq",
        "colab_type": "text"
      },
      "source": [
        "Generate house prices from house size with a random noise added."
      ]
    },
    {
      "cell_type": "code",
      "metadata": {
        "id": "SfzQFEkSGSDx",
        "colab_type": "code",
        "colab": {
          "base_uri": "https://localhost:8080/",
          "height": 221
        },
        "outputId": "ea07978a-942d-414b-a7e8-a50a0186a13e"
      },
      "source": [
        "np.random.seed(42)\n",
        "house_price = house_size * 100.0 + np.random.randint(low=20000, high=70000, size=num_house)\n",
        "print(house_price)"
      ],
      "execution_count": 7,
      "outputs": [
        {
          "output_type": "stream",
          "text": [
            "[221795. 250260. 271158. 274232. 295084. 343165. 183450. 280994. 174962.\n",
            " 315391. 377631. 149023. 329590. 198585. 359869. 273933. 368611. 279319.\n",
            " 254688. 369968. 258169. 194593. 128496. 377480. 236134. 193058. 247142.\n",
            " 343131. 220247. 300789. 158018. 211973. 311799. 247967. 304351. 195994.\n",
            " 330356. 345290. 291306. 394240. 194502. 378077. 336727. 152892. 367423.\n",
            " 299321. 342333. 302001. 278816. 221397. 126012. 368783. 364055. 295659.\n",
            " 267074. 273894. 284541. 226120. 391431. 279485. 140043. 164039. 337557.\n",
            " 220521. 363353. 245073. 178917. 288257. 231292. 400058. 160573. 213475.\n",
            " 227761. 236165. 372957. 230063. 376106. 169434. 198327. 278397. 352051.\n",
            " 127416. 280953. 259476. 345947. 293800. 244729. 289462. 168368. 311071.\n",
            " 173985. 374843. 196899. 308171. 387776. 366844. 387416. 188984. 347074.\n",
            " 200468.]\n"
          ],
          "name": "stdout"
        }
      ]
    },
    {
      "cell_type": "markdown",
      "metadata": {
        "id": "6ngEv2oVHMB8",
        "colab_type": "text"
      },
      "source": [
        "Showing with graph"
      ]
    },
    {
      "cell_type": "code",
      "metadata": {
        "id": "pC9VesGgHKGc",
        "colab_type": "code",
        "colab": {
          "base_uri": "https://localhost:8080/",
          "height": 283
        },
        "outputId": "945e7efe-57b6-490e-b408-90c088a7b9ad"
      },
      "source": [
        "plt.plot(house_size, house_price, \"bx\") # bx for blue x\n",
        "plt.ylabel(\"Price\")\n",
        "plt.xlabel(\"Size\")\n",
        "plt.show()"
      ],
      "execution_count": 8,
      "outputs": [
        {
          "output_type": "display_data",
          "data": {
            "image/png": "[encoded data removed]",
            "text/plain": [
              "<Figure size 432x288 with 1 Axes>"
            ]
          },
          "metadata": {
            "tags": []
          }
        }
      ]
    },
    {
      "cell_type": "markdown",
      "metadata": {
        "id": "3OvdrVRPe-jA",
        "colab_type": "text"
      },
      "source": [
        "Now you need to normalize values to prevent under/overflow, house price and size should be on same scale"
      ]
    },
    {
      "cell_type": "code",
      "metadata": {
        "id": "atcYACsIfOuC",
        "colab_type": "code",
        "colab": {}
      },
      "source": [
        "def normalize(array):\n",
        "  return (array - array.mean())/array.std()"
      ],
      "execution_count": 0,
      "outputs": []
    },
    {
      "cell_type": "markdown",
      "metadata": {
        "id": "XO3D8PqrgBK_",
        "colab_type": "text"
      },
      "source": [
        "Define number of training samples, 0.7 = 70%. We can take the first 70% since the values are randomized"
      ]
    },
    {
      "cell_type": "code",
      "metadata": {
        "id": "4sjsqBh0gVsm",
        "colab_type": "code",
        "colab": {
          "base_uri": "https://localhost:8080/",
          "height": 34
        },
        "outputId": "72b6e2b8-2fda-4116-e366-29963af178ce"
      },
      "source": [
        "num_train_samples = math.floor(num_house * 0.7)\n",
        "print(num_train_samples)"
      ],
      "execution_count": 13,
      "outputs": [
        {
          "output_type": "stream",
          "text": [
            "70\n"
          ],
          "name": "stdout"
        }
      ]
    },
    {
      "cell_type": "markdown",
      "metadata": {
        "id": "ONfbtd4rhD4_",
        "colab_type": "text"
      },
      "source": [
        "Define training data"
      ]
    },
    {
      "cell_type": "code",
      "metadata": {
        "id": "1VDEwlpehF8P",
        "colab_type": "code",
        "colab": {}
      },
      "source": [
        "train_house_size = np.asarray(house_size[:num_train_samples])\n",
        "train_price = np.asarray(house_price[:num_train_samples])"
      ],
      "execution_count": 0,
      "outputs": []
    },
    {
      "cell_type": "markdown",
      "metadata": {
        "id": "EMwBwNy-kdGk",
        "colab_type": "text"
      },
      "source": [
        "Normalize data"
      ]
    },
    {
      "cell_type": "code",
      "metadata": {
        "id": "mraFBktZkewj",
        "colab_type": "code",
        "colab": {
          "base_uri": "https://localhost:8080/",
          "height": 527
        },
        "outputId": "11f53a0f-a76b-4cfd-fe92-e2616eb35d1a"
      },
      "source": [
        "train_house_size_norm = normalize(train_house_size)\n",
        "train_price_norm = normalize(train_price)\n",
        "print(train_house_size_norm)\n",
        "print(train_price_norm)"
      ],
      "execution_count": 16,
      "outputs": [
        {
          "output_type": "stream",
          "text": [
            "[-0.65014963 -0.04186699 -0.27172494 -0.32078     0.4402741   1.18450932\n",
            " -1.20236936 -0.12035507 -1.39298328  0.22162872  1.13685584 -1.67329786\n",
            "  0.50614803 -0.77769277  1.49565851  0.26788063  1.55452457 -0.15259125\n",
            " -0.5170002   1.40175312 -0.19604001 -1.21218037 -1.82606931  1.36811537\n",
            " -0.80852737 -1.19115678 -0.33900044  1.01351742 -0.48896875  0.67573835\n",
            " -1.59060506 -1.06781836  0.80608463 -0.07970945  0.28610108 -0.95008624\n",
            "  1.04295045  1.2475801  -0.03766227  1.55732771 -1.01455859  1.45641446\n",
            "  1.03313944 -1.51772327  1.00510798  0.05484155  1.14246213  0.09268401\n",
            "  0.21602243 -0.76928333 -1.80784886  1.30224144  0.88457271  0.36599073\n",
            " -0.42449639 -0.27312652  0.24685704 -0.87159815  1.57694973  0.3575813\n",
            " -1.6298491  -1.57378618  0.92101361 -0.46093729  1.39194211 -0.71322041\n",
            " -1.21778666 -0.06849687 -0.43150426  1.42838301]\n",
            "[-7.12544031e-01 -3.24227603e-01 -3.91393648e-02  2.79580812e-03\n",
            "  2.87256519e-01  9.43172281e-01 -1.23564234e+00  9.50422751e-02\n",
            " -1.35143471e+00  5.64282400e-01  1.41335370e+00 -1.70529172e+00\n",
            "  7.57983611e-01 -1.02917232e+00  1.17104643e+00 -1.28311729e-03\n",
            "  1.29030384e+00  7.21921077e-02 -2.63821310e-01  1.30881589e+00\n",
            " -2.16333887e-01 -1.08363075e+00 -1.98531882e+00  1.41129377e+00\n",
            " -5.16932956e-01 -1.10457105e+00 -3.66763019e-01  9.42708457e-01\n",
            " -7.33661678e-01  3.65083508e-01 -1.58258291e+00 -8.46534684e-01\n",
            "  5.15280728e-01 -3.55508459e-01  4.13675923e-01 -1.06451846e+00\n",
            "  7.68433299e-01  9.72161299e-01  2.35717455e-01  1.63993186e+00\n",
            " -1.08487216e+00  1.41943798e+00  8.55345787e-01 -1.65251125e+00\n",
            "  1.27409727e+00  3.45057212e-01  9.31822228e-01  3.81617480e-01\n",
            "  6.53302365e-02 -7.17973503e-01 -2.01920528e+00  1.29265024e+00\n",
            "  1.22815138e+00  2.95100607e-01 -9.48528477e-02 -1.81515104e-03\n",
            "  1.43430063e-01 -6.53542852e-01  1.60161179e+00  7.44566616e-02\n",
            " -1.82779590e+00 -1.50044509e+00  8.66668556e-01 -7.29923800e-01\n",
            "  1.21857478e+00 -3.94988092e-01 -1.29748103e+00  1.94123330e-01\n",
            " -5.82986992e-01  1.71930039e+00]\n"
          ],
          "name": "stdout"
        }
      ]
    }
  ]
}